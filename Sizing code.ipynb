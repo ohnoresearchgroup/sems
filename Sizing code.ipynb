{
 "cells": [
  {
   "cell_type": "code",
   "execution_count": null,
   "id": "a282086c",
   "metadata": {},
   "outputs": [],
   "source": [
    "import sys\n",
    "#path to directory where general python files are stored\n",
    "sys.path.insert(1, '')\n",
    "\n",
    "from semsdata import SEMSdata\n",
    "import numpy as np\n",
    "import pandas as pd \n",
    "import matplotlib.pyplot as plt\n",
    "import os\n",
    "\n",
    "#path to data file\n",
    "SEMS_path = \n",
    "#import datset\n",
    "dataset1 = SEMSdata(SEMS_path)"
   ]
  },
  {
   "cell_type": "code",
   "execution_count": null,
   "id": "9fd54ff6",
   "metadata": {},
   "outputs": [],
   "source": [
    "starttime = pd.to_datetime(\"2023-11-15 09:04:00\")\n",
    "endtime = pd.to_datetime(\"2023-11-15 09:11:00\")\n",
    "\n",
    "slice1 = dataset1.df_proc.loc[((dataset1.df_proc['StartDateTime'] > starttime) & (dataset1.df_proc['StartDateTime'] < endtime))]\n",
    "\n",
    "print(slice1['Total_Num_Conc'].mean())\n",
    "print(slice1['Total_Mass_Conc'].mean())"
   ]
  }
 ],
 "metadata": {
  "kernelspec": {
   "display_name": "Python 3 (ipykernel)",
   "language": "python",
   "name": "python3"
  },
  "language_info": {
   "codemirror_mode": {
    "name": "ipython",
    "version": 3
   },
   "file_extension": ".py",
   "mimetype": "text/x-python",
   "name": "python",
   "nbconvert_exporter": "python",
   "pygments_lexer": "ipython3",
   "version": "3.11.7"
  }
 },
 "nbformat": 4,
 "nbformat_minor": 5
}
